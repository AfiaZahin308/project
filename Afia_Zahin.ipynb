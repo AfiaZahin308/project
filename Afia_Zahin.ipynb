{
  "nbformat": 4,
  "nbformat_minor": 0,
  "metadata": {
    "colab": {
      "provenance": []
    },
    "kernelspec": {
      "name": "python3",
      "display_name": "Python 3"
    },
    "language_info": {
      "name": "python"
    }
  },
  "cells": [
    {
      "cell_type": "markdown",
      "source": [
        "**Name: Afia Zahin**    \n",
        "        project name: Heart-Disease"
      ],
      "metadata": {
        "id": "RySwCobmE1O_"
      }
    },
    {
      "cell_type": "code",
      "execution_count": null,
      "metadata": {
        "id": "9P-xOXR3E0G5"
      },
      "outputs": [],
      "source": [
        "!pip install /kaggle/input/ml-models/package/dist/mlmodels-1.0-py2.py3-none-any.whl"
      ]
    },
    {
      "cell_type": "code",
      "source": [
        "import os,warnings;warnings.filterwarnings(\"ignore\")\n",
        "import numpy as np;import pandas as pd;import matplotlib.pyplot as plt\n",
        "import seaborn as sns;sns.set(style='whitegrid',font_scale=0.8)\n",
        "from mlmodels.gpr_bclassifier import GPRC\n",
        "%matplotlib inline"
      ],
      "metadata": {
        "id": "QiMq0XixFWn1"
      },
      "execution_count": null,
      "outputs": []
    },
    {
      "cell_type": "code",
      "source": [
        "df = pd.read_csv('/kaggle/input/heart-disease-cleveland-uci/heart_cleveland_upload.csv')"
      ],
      "metadata": {
        "id": "dO32r13wFdGk"
      },
      "execution_count": null,
      "outputs": []
    },
    {
      "cell_type": "code",
      "source": [
        "df.info()"
      ],
      "metadata": {
        "id": "vIRoGAF-FjQM"
      },
      "execution_count": null,
      "outputs": []
    },
    {
      "cell_type": "code",
      "source": [
        "df.head()"
      ],
      "metadata": {
        "id": "k3YXh7gDFlxV"
      },
      "execution_count": null,
      "outputs": []
    },
    {
      "cell_type": "code",
      "source": [
        "display(df.describe())"
      ],
      "metadata": {
        "id": "zpRjncofFobc"
      },
      "execution_count": null,
      "outputs": []
    },
    {
      "cell_type": "code",
      "source": [
        "df.condition.value_counts()"
      ],
      "metadata": {
        "id": "01o0pLvzFrh8"
      },
      "execution_count": null,
      "outputs": []
    },
    {
      "cell_type": "code",
      "source": [
        "corrMat(df)"
      ],
      "metadata": {
        "id": "oixVewrpFuR8"
      },
      "execution_count": null,
      "outputs": []
    },
    {
      "cell_type": "code",
      "source": [
        "plot2count('age','sex','Age of Patient','Gender of Patient',plt4,[2,1])\n",
        "lst1 = ['cp','exang','thal','ca']\n",
        "lst2 = ['Chest Pain Type','Excersised Induced Angina','Thalium Stress Result','Fluorosopy Vessels']\n",
        "nplot2count(lst1,lst2,plt4,4)"
      ],
      "metadata": {
        "id": "rcx2Ed_WFxNl"
      },
      "execution_count": null,
      "outputs": []
    },
    {
      "cell_type": "code",
      "source": [
        "lst_ecg = ['oldpeak','restecg','slope','condition']\n",
        "plot1count('oldpeak','oldpeak: ST Depression Relative to Rest',plt4)\n",
        "plot2count('restecg','slope','restecg: Resting electrocardiography (ECG)','slope: []',plt4,[1,1])"
      ],
      "metadata": {
        "id": "lwG2TVedF1s8"
      },
      "execution_count": null,
      "outputs": []
    },
    {
      "cell_type": "code",
      "source": [
        "lst_blood = ['trestbps','thalach','fbs','chol','condition']\n",
        "plot1count('trestbps','trestbps: Resting Blood Pressure (mmHg)',plt4)\n",
        "plot1count_ordered('thalach','thalach: Maximum Heart Rate',df['thalach'].value_counts().iloc[:30].index,plt4)\n",
        "plot2count('fbs','chol','Fasting Blood Sugar','Serum Cholestoral',plt4,[2,10],None,df['chol'].value_counts().iloc[:40].index)"
      ],
      "metadata": {
        "id": "0ETcYT4LF7lc"
      },
      "execution_count": null,
      "outputs": []
    },
    {
      "cell_type": "code",
      "source": [
        "lst_ohe_feat = ['sex','restecg','slope','fbs','cp','exang','thal','ca']\n",
        "lst_ohe_out = []\n",
        "for i in lst_ohe_feat:\n",
        "    tdf = pd.get_dummies(df[i],i)\n",
        "    lst_ohe_out.append(tdf)\n",
        "\n",
        "lst_ohe_out.append(df['condition'])\n",
        "df_ohe = pd.concat(lst_ohe_out,axis=1) # One Hot Encoding Features df"
      ],
      "metadata": {
        "id": "If_KBUYhGB8F"
      },
      "execution_count": null,
      "outputs": []
    },
    {
      "cell_type": "code",
      "source": [
        "''' Draw a Bivariate Seaborn Pairgrid /w KDE density w/ '''\n",
        "def snsPairGrid(df):\n",
        "\n",
        "    ''' Plots a Seaborn Pairgrid w/ KDE & scatter plot of df features'''\n",
        "    g = sns.PairGrid(df,diag_sharey=False,hue='condition',palette=['#2c3e50','#E888BB'])\n",
        "    g.fig.set_size_inches(13,13)\n",
        "    g.map_upper(sns.kdeplot,n_levels=5)\n",
        "    g.map_diag(sns.kdeplot, lw=2)\n",
        "    g.map_lower(sns.scatterplot,s=30,edgecolor=\"k\",linewidth=1.5,alpha=1)\n",
        "    g.add_legend()\n",
        "    plt.tight_layout()"
      ],
      "metadata": {
        "id": "4YzBk0xNGGZ9"
      },
      "execution_count": null,
      "outputs": []
    },
    {
      "cell_type": "code",
      "source": [
        "# We actually have only 5 continuous numerical features, the rest are categorical numbers\n",
        "numvars_targ = ['age','trestbps','chol','thalach','oldpeak','condition']\n",
        "snsPairGrid(df[numvars_targ])"
      ],
      "metadata": {
        "id": "jcaV6Y2xGKAe"
      },
      "execution_count": null,
      "outputs": []
    },
    {
      "cell_type": "code",
      "source": [
        "''' Sample Usage for GPRC() '''\n",
        "from sklearn.datasets import load_iris\n",
        "from sklearn.dummy import DummyClassifier as DC\n",
        "iris = load_iris();X = iris.data;y = iris.target\n",
        "model = DC(strategy=\"most_frequent\");model.fit(X,y);print(f'DC(): {model.score(X,y).round(2)}')\n",
        "model = GPRC();model.fit(X,y);print(f'GPRC(): {model.score(X,y)}')"
      ],
      "metadata": {
        "id": "a6_Unw07GOyN"
      },
      "execution_count": null,
      "outputs": []
    },
    {
      "cell_type": "code",
      "source": [
        "from sklearn.model_selection import GridSearchCV,cross_val_score\n",
        "\n",
        "lst_theta = [0.01, 0.1, 1, 10, 100, 1000, 5000]\n",
        "lst_sig = [0.01, 0.1, 1, 10, 100, 1000, 5000]\n",
        "\n",
        "def modelEval(ldf,lst_theta,lst_sig,feature='condition'):\n",
        "\n",
        "    # Given a dataframe, split feature/target variable\n",
        "    X = ldf.copy()\n",
        "    y = ldf[feature].copy()\n",
        "    del X[feature]\n",
        "\n",
        "    # define parameters for gridsearch (theta,sigma)\n",
        "    param_grid = {'theta': lst_theta,'sigma': lst_sig}\n",
        "\n",
        "    # split dataset into 5 segments, fit & predict fo each segment\n",
        "    model = GPRC(opt=False)  # manual hyperparameter model\n",
        "    model.fit(X,y)\n",
        "\n",
        "    gscv = GridSearchCV(model,param_grid,cv=5) # 5 fold CV\n",
        "    gscv.fit(X.values,y.values)\n",
        "    results = pd.DataFrame(gscv.cv_results_)\n",
        "    scores = np.array(results.mean_test_score).reshape(7,7)\n",
        "\n",
        "    # plot the cross validation mean scores of the 5 fold CV\n",
        "    heatmap1(scores,xlabel='theta',xticklabels=param_grid['theta'],\n",
        "                    ylabel='sigma',yticklabels=param_grid['sigma'])\n",
        "\n",
        "ldf1 = df[lst_ecg] # subset of ecg features\n",
        "modelEval(ldf1,lst_theta,lst_sig)"
      ],
      "metadata": {
        "id": "U_Lp3720GWSF"
      },
      "execution_count": null,
      "outputs": []
    },
    {
      "cell_type": "code",
      "source": [
        "from sklearn.pipeline import make_pipeline,Pipeline\n",
        "from sklearn.preprocessing import PolynomialFeatures,StandardScaler\n",
        "\n",
        "lst_theta = [0.01, 0.1, 1, 10, 100, 1000, 5000]\n",
        "lst_sig = [0.01, 0.1, 1, 10, 100, 1000, 5000]\n",
        "\n",
        "# Model Evaluation Function for Polynomial Feature Pipeline\n",
        "def modelEval2(ldf,lst_theta,lst_sig,feature='condition'):\n",
        "\n",
        "    # Given a dataframe, split feature/target variable\n",
        "    y = ldf[feature].copy()\n",
        "    X = ldf.copy()\n",
        "    del X[feature]     # remove target variable\n",
        "\n",
        "    tlst = []\n",
        "    for i in [2,7]:\n",
        "\n",
        "        # create a pipeline combining a polynomial feature\n",
        "        pipe = Pipeline(steps=[('scaler',StandardScaler()),\n",
        "                               ('poly',PolynomialFeatures(i)),\n",
        "                               ('model',GPRC(opt=False))])\n",
        "\n",
        "        # pipepines require slightly different notations w/ __\n",
        "        param_grid = {'model__theta': lst_theta,'model__sigma': lst_sig}\n",
        "\n",
        "        gscv2 = GridSearchCV(pipe,param_grid,cv=10)\n",
        "        gscv2.fit(X,y)\n",
        "        ypred = gscv2.predict(X)\n",
        "        results2 = pd.DataFrame(gscv2.cv_results_)\n",
        "        scores2 = np.array(results2.mean_test_score).reshape(7,7)\n",
        "        tlst.append(scores2)\n",
        "\n",
        "    lst_lab = ['theta','sigma'];lst_tit = ['Poly(2)','Poly(7)']\n",
        "    lst_tick = [param_grid['model__theta'],param_grid['model__sigma']]\n",
        "\n",
        "    # Plot two Heatmaps side by side for the two Polynomial\n",
        "    heatmapn(n=2,values=tlst,labels=lst_lab,ticklabels=lst_tick,titles=lst_tit)\n",
        "\n",
        "modelEval2(ldf1,lst_theta,lst_sig)"
      ],
      "metadata": {
        "id": "ptaYXkFdGd9U"
      },
      "execution_count": null,
      "outputs": []
    },
    {
      "cell_type": "code",
      "source": [
        "from sklearn.model_selection import train_test_split\n",
        "from sklearn.metrics import confusion_matrix\n",
        "\n",
        "def modelEval3(ldf,hyp,pred_upd,feature='condition'):\n",
        "\n",
        "    # Given a dataframe, split feature/target variable\n",
        "    y = ldf[feature].copy()\n",
        "    X = ldf.copy()\n",
        "    del X[feature]     # remove target variable\n",
        "\n",
        "    X_train,X_test,y_train,y_test = train_test_split(X,y,test_size=0.3,random_state=73)\n",
        "\n",
        "    lst_mu = []\n",
        "    if(pred_upd!=None):\n",
        "        model = GPRC(theta=hyp[0],sigma=hyp[1],opt=False,mu_in=pred_upd)\n",
        "    else:\n",
        "        model = GPRC(theta=hyp[0],sigma=hyp[1],opt=False)\n",
        "\n",
        "    model.fit(X_train,y_train)\n",
        "    model.predict(X_train.values);lst_mu.append(model.mu_s)\n",
        "    model.predict(X_test.values);lst_mu.append(model.mu_s)\n",
        "    print(f'Training Score: {model.score(X_train.values,y_train.values)}')\n",
        "    print(f'Test Score: {model.score(X_test.values,y_test.values)}')\n",
        "\n",
        "    if(pred_upd==None):\n",
        "        return lst_mu\n",
        "\n",
        "lst_ldf1 = modelEval3(ldf1,hyp=[10,100],pred_upd=None)"
      ],
      "metadata": {
        "id": "-UThp7U1Gjcl"
      },
      "execution_count": null,
      "outputs": []
    },
    {
      "cell_type": "code",
      "source": [
        "''' Cross Validation '''\n",
        "lst_theta = [10,100, 500, 1000, 1500, 2000, 2500]\n",
        "lst_sig = [0.01,0.1,1.0,10,50,100, 500]\n",
        "\n",
        "ldf2 = df[lst_blood]\n",
        "modelEval(ldf2,lst_theta,lst_sig)"
      ],
      "metadata": {
        "id": "GIwrqSTIGnca"
      },
      "execution_count": null,
      "outputs": []
    },
    {
      "cell_type": "code",
      "source": [
        "''' Train/Test Split w/  '''\n",
        "lst_ldf2 = modelEval3(ldf2,hyp=[1000,50],pred_upd=None)"
      ],
      "metadata": {
        "id": "yA-xYesNGsa-"
      },
      "execution_count": null,
      "outputs": []
    },
    {
      "cell_type": "code",
      "source": [
        "''' Ensemble Modification Train/Test Split'''\n",
        "# lst_ldf1 : ECG based model prediction\n",
        "modelEval3(ldf2,hyp=[1000,50],pred_upd=lst_ldf1)"
      ],
      "metadata": {
        "id": "3Jr3Kp4FGvuk"
      },
      "execution_count": null,
      "outputs": []
    },
    {
      "cell_type": "code",
      "source": [
        "lst = ['age','sex']\n",
        "ldf3 = df[lst+lst_ecg]\n",
        "modelEval(ldf3,lst_theta,lst_sig)"
      ],
      "metadata": {
        "id": "WkRgn0wzGyt1"
      },
      "execution_count": null,
      "outputs": []
    },
    {
      "cell_type": "code",
      "source": [
        "''' Numerical Features Model '''\n",
        "lst_theta = [100, 500, 1000, 1500, 2000, 2500,3000]\n",
        "lst_sig = [500,1000,1500,2000,2500,3000,3500]\n",
        "\n",
        "df_num = df[numvars_targ].copy()\n",
        "modelEval(df_num,lst_theta,lst_sig)"
      ],
      "metadata": {
        "id": "BnTrXbGHG198"
      },
      "execution_count": null,
      "outputs": []
    },
    {
      "cell_type": "code",
      "source": [
        "lst_ldf3 = modelEval3(df_num,hyp=[1500,1500],pred_upd=None)"
      ],
      "metadata": {
        "id": "FvZN_SfWG5fz"
      },
      "execution_count": null,
      "outputs": []
    },
    {
      "cell_type": "code",
      "source": [
        "''' Categorical Feature Model '''\n",
        "lst_theta = [10,100, 500, 1000, 1500, 2000, 2500]\n",
        "lst_sig = [0.01,0.1,1.0,10,50,100, 500]\n",
        "modelEval(df_ohe,lst_theta,lst_sig)"
      ],
      "metadata": {
        "id": "zoGNi2kZG858"
      },
      "execution_count": null,
      "outputs": []
    },
    {
      "cell_type": "code",
      "source": [
        "''' Ensemble Modification of Categorical Feature Model '''\n",
        "modelEval3(df_ohe,hyp=[100,50],pred_upd=lst_ldf3)\n"
      ],
      "metadata": {
        "id": "fyjRykj-G_pF"
      },
      "execution_count": null,
      "outputs": []
    }
  ]
}